{
 "cells": [
  {
   "cell_type": "code",
   "execution_count": 76,
   "metadata": {
    "collapsed": true,
    "ExecuteTime": {
     "end_time": "2023-08-04T19:26:04.461203400Z",
     "start_time": "2023-08-04T19:26:04.452222500Z"
    }
   },
   "outputs": [],
   "source": [
    "import math\n",
    "\n",
    "\n",
    "class Point:\n",
    "\n",
    "    def __init__(self, x, y):\n",
    "        self.x = x\n",
    "        self.y = y\n",
    "\n",
    "    def falls_in_rectangle(self, ractangle):\n",
    "        if ractangle.lowleft.x < self.x < ractangle.upright.x and \\\n",
    "            ractangle.lowleft.y < self.y < ractangle.upright.y:\n",
    "            return True\n",
    "        else:\n",
    "            return False\n",
    "\n",
    "    def distance_to_point(self, our_point):\n",
    "        return math.sqrt(math.pow((our_point[0] - self.x), 2) + math.pow((our_point[1] - self.y), 2))\n"
   ]
  },
  {
   "cell_type": "code",
   "execution_count": 77,
   "outputs": [],
   "source": [
    "point2 = Point(3, 4)"
   ],
   "metadata": {
    "collapsed": false,
    "ExecuteTime": {
     "end_time": "2023-08-04T19:26:05.125621200Z",
     "start_time": "2023-08-04T19:26:05.091388Z"
    }
   }
  },
  {
   "cell_type": "code",
   "execution_count": 78,
   "outputs": [],
   "source": [
    "point1 = Point(2,3)"
   ],
   "metadata": {
    "collapsed": false,
    "ExecuteTime": {
     "end_time": "2023-08-04T19:26:05.562168Z",
     "start_time": "2023-08-04T19:26:05.540226200Z"
    }
   }
  },
  {
   "cell_type": "code",
   "execution_count": 79,
   "outputs": [
    {
     "data": {
      "text/plain": "3.1622776601683795"
     },
     "execution_count": 79,
     "metadata": {},
     "output_type": "execute_result"
    }
   ],
   "source": [
    "point1.distance_to_point((5,4))"
   ],
   "metadata": {
    "collapsed": false,
    "ExecuteTime": {
     "end_time": "2023-08-04T19:26:09.018458100Z",
     "start_time": "2023-08-04T19:26:08.992503200Z"
    }
   }
  },
  {
   "cell_type": "code",
   "execution_count": 80,
   "outputs": [],
   "source": [
    "class Rectangle:\n",
    "\n",
    "    def __init__(self, lowleft, upright):\n",
    "        self.lowleft = lowleft\n",
    "        self.upright = upright\n",
    "\n",
    "    def has_an_area_of(self):\n",
    "        return (abs(self.lowleft.x - self.upright.x) * abs(self.lowleft.y - self.upright.y))"
   ],
   "metadata": {
    "collapsed": false,
    "ExecuteTime": {
     "end_time": "2023-08-04T19:26:11.491588Z",
     "start_time": "2023-08-04T19:26:11.469647Z"
    }
   }
  },
  {
   "cell_type": "code",
   "execution_count": 81,
   "outputs": [],
   "source": [
    "pointx = Point(6, 7)"
   ],
   "metadata": {
    "collapsed": false,
    "ExecuteTime": {
     "end_time": "2023-08-04T19:26:12.326071400Z",
     "start_time": "2023-08-04T19:26:12.297804200Z"
    }
   }
  },
  {
   "cell_type": "code",
   "execution_count": 82,
   "outputs": [],
   "source": [
    "rectanglex = Rectangle(Point(5, 6), Point(7, 9))"
   ],
   "metadata": {
    "collapsed": false,
    "ExecuteTime": {
     "end_time": "2023-08-04T19:26:13.251538600Z",
     "start_time": "2023-08-04T19:26:13.223382300Z"
    }
   }
  },
  {
   "cell_type": "code",
   "execution_count": 83,
   "outputs": [
    {
     "data": {
      "text/plain": "True"
     },
     "execution_count": 83,
     "metadata": {},
     "output_type": "execute_result"
    }
   ],
   "source": [
    "pointx.falls_in_rectangle(rectanglex)"
   ],
   "metadata": {
    "collapsed": false,
    "ExecuteTime": {
     "end_time": "2023-08-04T19:26:47.600753700Z",
     "start_time": "2023-08-04T19:26:47.574027Z"
    }
   }
  },
  {
   "cell_type": "code",
   "execution_count": 84,
   "outputs": [],
   "source": [
    "from random import randint\n",
    "\n",
    "our_rectangle = Rectangle(Point(randint(0, 9), randint(0, 9)), Point(randint(10, 19), randint(10, 19)))"
   ],
   "metadata": {
    "collapsed": false,
    "ExecuteTime": {
     "end_time": "2023-08-04T19:26:50.793819100Z",
     "start_time": "2023-08-04T19:26:50.776296Z"
    }
   }
  },
  {
   "cell_type": "code",
   "execution_count": 85,
   "outputs": [
    {
     "name": "stdout",
     "output_type": "stream",
     "text": [
      "Our Rectangle coordinates:  16  ,  17  and  0  ,  8\n"
     ]
    }
   ],
   "source": [
    "print(\"Our Rectangle coordinates: \" ,\n",
    "      our_rectangle.upright.x , \" , \" ,\n",
    "      our_rectangle.upright.y , \" and \" , our_rectangle.lowleft.x , \" , \" , our_rectangle.lowleft.y)"
   ],
   "metadata": {
    "collapsed": false,
    "ExecuteTime": {
     "end_time": "2023-08-04T19:26:51.592563100Z",
     "start_time": "2023-08-04T19:26:51.568356600Z"
    }
   }
  },
  {
   "cell_type": "code",
   "execution_count": 86,
   "outputs": [
    {
     "name": "stdout",
     "output_type": "stream",
     "text": [
      "Enter a point : \n",
      "\n",
      "Is your point inside the rectangle :  False\n"
     ]
    }
   ],
   "source": [
    "print(\"Enter a point : \\n\")\n",
    "user_point = Point(float(input(\"X Coordinate\")), float(input(\"Y Coordinate\")))\n",
    "\n",
    "print(\"Is your point inside the rectangle : \", user_point.falls_in_rectangle(our_rectangle))"
   ],
   "metadata": {
    "collapsed": false,
    "ExecuteTime": {
     "end_time": "2023-08-04T19:28:19.665405400Z",
     "start_time": "2023-08-04T19:28:14.379303400Z"
    }
   }
  },
  {
   "cell_type": "code",
   "execution_count": 87,
   "outputs": [
    {
     "name": "stdout",
     "output_type": "stream",
     "text": [
      "Guess the area of the rectangle : \n",
      "Did you guess it right ? :  True \n",
      "Actual area :  144\n"
     ]
    }
   ],
   "source": [
    "print(\"Guess the area of the rectangle : \")\n",
    "user_area = float(input(\"Guess the area of the rectangle\"))\n",
    "\n",
    "print(\"Did you guess it right ? : \", user_area == our_rectangle.has_an_area_of(), \"\\nActual area : \", our_rectangle.has_an_area_of())"
   ],
   "metadata": {
    "collapsed": false,
    "ExecuteTime": {
     "end_time": "2023-08-04T19:28:24.749970500Z",
     "start_time": "2023-08-04T19:28:22.744373500Z"
    }
   }
  },
  {
   "cell_type": "code",
   "execution_count": null,
   "outputs": [],
   "source": [],
   "metadata": {
    "collapsed": false
   }
  }
 ],
 "metadata": {
  "kernelspec": {
   "display_name": "Python 3",
   "language": "python",
   "name": "python3"
  },
  "language_info": {
   "codemirror_mode": {
    "name": "ipython",
    "version": 2
   },
   "file_extension": ".py",
   "mimetype": "text/x-python",
   "name": "python",
   "nbconvert_exporter": "python",
   "pygments_lexer": "ipython2",
   "version": "2.7.6"
  }
 },
 "nbformat": 4,
 "nbformat_minor": 0
}
